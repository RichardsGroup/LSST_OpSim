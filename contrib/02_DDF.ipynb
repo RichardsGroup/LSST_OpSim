{
 "cells": [
  {
   "cell_type": "code",
   "execution_count": 1,
   "metadata": {},
   "outputs": [],
   "source": [
    "%load_ext autoreload\n",
    "%autoreload 2"
   ]
  },
  {
   "cell_type": "markdown",
   "metadata": {},
   "source": [
    "### Test DDF against LSST AGN SC DDF Cadence White Paper"
   ]
  },
  {
   "cell_type": "code",
   "execution_count": 2,
   "metadata": {},
   "outputs": [],
   "source": [
    "# import matplotlib to show plots inline.\n",
    "%matplotlib inline\n",
    "import matplotlib.pyplot as plt\n",
    "import pandas as pd\n",
    "import numpy as np\n",
    "import glob\n",
    "import os"
   ]
  },
  {
   "cell_type": "code",
   "execution_count": 3,
   "metadata": {},
   "outputs": [
    {
     "name": "stdout",
     "output_type": "stream",
     "text": [
      "Your automatically extracted username is: ywx649999311. If it is incorrect, please mannually reset it.\n"
     ]
    }
   ],
   "source": [
    "your_username = os.getcwd().split('/')[5]\n",
    "print(f'Your automatically extracted username is: {your_username}.'\n",
    "    ' If it is incorrect, please mannually reset it.')"
   ]
  },
  {
   "cell_type": "markdown",
   "metadata": {},
   "source": [
    "Import the sims_maf modules needed."
   ]
  },
  {
   "cell_type": "code",
   "execution_count": 4,
   "metadata": {},
   "outputs": [
    {
     "data": {
      "text/plain": [
       "'0.10.1.dev62+gbb0801e'"
      ]
     },
     "execution_count": 4,
     "metadata": {},
     "output_type": "execute_result"
    }
   ],
   "source": [
    "# import rubin_sim python modules\n",
    "import rubin_sim.maf.db as db\n",
    "import rubin_sim.maf.slicers as slicers\n",
    "import rubin_sim.maf.metrics as metrics\n",
    "import rubin_sim.maf.metricBundles as mb\n",
    "import rubin_sim.maf.plots as plots\n",
    "import rubin_sim.maf.batches as batches\n",
    "\n",
    "# import convenience functions for MAF analysis on SciServer\n",
    "from opsimUtils import *\n",
    "\n",
    "# print version\n",
    "import rubin_sim\n",
    "rubin_sim.__version__"
   ]
  },
  {
   "cell_type": "markdown",
   "metadata": {},
   "source": [
    "### **Important:**  \n",
    "The following code is needed before importing the `opsimUtils` module if the module is not in the same directory as the current notebook. That is, you need add the directory where the `opsimUtils` module is located to the Python search path. "
   ]
  },
  {
   "cell_type": "code",
   "execution_count": 5,
   "metadata": {},
   "outputs": [],
   "source": [
    "# add opsimUtils module path to search\n",
    "import sys\n",
    "sys.path.insert(0, '../Scripts_NBs/')\n",
    "\n",
    "# import convenience functions\n",
    "from opsimUtils import *"
   ]
  },
  {
   "cell_type": "markdown",
   "metadata": {},
   "source": [
    "#### 1. Build connections to the OpSims databases\n",
    "The first step is to initiate opsim database objects and result database objects for the opsim databases that you want to run metrics on. Two paths are needed here:\n",
    "1. `dbDir`: The path to the OpSim database directory\n",
    "2. `outDir`: The path to the directory where you want to save the metric metadata.\n",
    "\n",
    "By providing these two paths, the function `connect_dbs()` will initiate connections and store the metadata to the designated directory."
   ]
  },
  {
   "cell_type": "code",
   "execution_count": 6,
   "metadata": {},
   "outputs": [
    {
     "data": {
      "text/plain": [
       "['baseline_retrofoot_v2.0_10yrs',\n",
       " 'baseline_v2.0_10yrs',\n",
       " 'baseline_v2.1_10yrs',\n",
       " 'bluer_indx0_v2.0_10yrs',\n",
       " 'bluer_indx1_v2.0_10yrs']"
      ]
     },
     "execution_count": 6,
     "metadata": {},
     "output_type": "execute_result"
    }
   ],
   "source": [
    "dbRuns = list(run_df.index)\n",
    "dbRuns[0:5] # only show first 5 opsims"
   ]
  },
  {
   "cell_type": "code",
   "execution_count": 7,
   "metadata": {},
   "outputs": [],
   "source": [
    "if your_username == '': # do NOT put your username here, put it in the cell at the top of the notebook.\n",
    "    raise Exception('Please provide your username!  See the top of the notebook.')\n",
    "    \n",
    "dbDir = rubin_sim.data.get_data_dir()\n",
    "outDir = '/home/idies/workspace/Storage/{}/persistent/MAFOutput/DDF/'.format(your_username)\n",
    "metricDataPath = '/home/idies/workspace/Storage/{}/persistent/MAFOutput/DDF/MetricData/'.format(your_username)\n",
    "\n",
    "if not os.path.exists(os.path.abspath(outDir)):\n",
    "    os.mkdir(os.path.abspath(outDir))"
   ]
  },
  {
   "cell_type": "code",
   "execution_count": 8,
   "metadata": {},
   "outputs": [],
   "source": [
    "# two dictionary are returned by the following function, \n",
    "# One (opSimDbs) is a dictionary storing all database objects\n",
    "# Another (resultDbs) is a dictionary consist of the objects directing MAF where to save metric metadata\n",
    "# Both dictionaries are indexed by OpSim run names\n",
    "opSimDbs, resultDbs = connect_dbs(dbDir, outDir, dbRuns=dbRuns[0:20])"
   ]
  },
  {
   "cell_type": "markdown",
   "metadata": {},
   "source": [
    "#### 2. Declare Coadd metrics and run on above OpSims\n",
    "While constructing a metricBundleGroup from a dictionary (the cell below), you will need to provide the path to a directory (`metricDataPath` in the cell with the nested loops) where you would like to store the metric data (this is **DIFFERENT** than path to the metric data, `outDir`). This path has been declared together with `outDir` in the same cell above. To construct metricbundles for plotting and further analysis, this path will be needed."
   ]
  },
  {
   "cell_type": "code",
   "execution_count": 9,
   "metadata": {},
   "outputs": [],
   "source": [
    "bands = ['u', 'g', 'r', 'i', 'z', 'y']\n",
    "ddfFields = ['COSMOS', 'XMM-LSS', 'ELAISS1', 'ECDFS', 'EDFS']"
   ]
  },
  {
   "cell_type": "markdown",
   "metadata": {},
   "source": [
    "Since we will need to loop through 5 different DDF fields and 6 different filters, below we design a metric naming covention as `metric_ddfName_band`, where 'metric' is just the original metric name, 'ddfName' is the name of the DDF field (e.g., 'COSMOS') and 'band' is the filter. "
   ]
  },
  {
   "cell_type": "code",
   "execution_count": 10,
   "metadata": {},
   "outputs": [],
   "source": [
    "coaddMetricNameTmp = 'coadd_{}_{}'\n",
    "radius = 1.8\n",
    "nside = 64"
   ]
  },
  {
   "cell_type": "code",
   "execution_count": 11,
   "metadata": {},
   "outputs": [],
   "source": [
    "# set summary statistics\n",
    "summaryMetrics = [metrics.MinMetric(), metrics.MedianMetric(),\n",
    "                  metrics.MaxMetric(), metrics.RmsMetric()]\n",
    "# for metric in coaddBDict:\n",
    "#     coaddBDict[metric].setSummaryMetrics(summaryMetrics)"
   ]
  },
  {
   "cell_type": "code",
   "execution_count": 12,
   "metadata": {},
   "outputs": [
    {
     "name": "stdout",
     "output_type": "stream",
     "text": [
      "Runing metrics on Opsim: baseline_v2.0_10yrs!\n",
      "*****************************************\n",
      "Healpix slicer using NSIDE=64, approximate resolution 54.967783 arcminutes\n",
      "Healpix slicer using NSIDE=64, approximate resolution 54.967783 arcminutes\n",
      "Runing metrics on Opsim: baseline_v2.1_10yrs!\n",
      "*****************************************\n",
      "Healpix slicer using NSIDE=64, approximate resolution 54.967783 arcminutes\n",
      "Healpix slicer using NSIDE=64, approximate resolution 54.967783 arcminutes\n",
      "Runing metrics on Opsim: bluer_indx0_v2.0_10yrs!\n",
      "*****************************************\n",
      "Healpix slicer using NSIDE=64, approximate resolution 54.967783 arcminutes\n",
      "Healpix slicer using NSIDE=64, approximate resolution 54.967783 arcminutes\n",
      "Runing metrics on Opsim: bluer_indx1_v2.0_10yrs!\n",
      "*****************************************\n",
      "Healpix slicer using NSIDE=64, approximate resolution 54.967783 arcminutes\n",
      "Healpix slicer using NSIDE=64, approximate resolution 54.967783 arcminutes\n"
     ]
    }
   ],
   "source": [
    "# loop through opsims\n",
    "for run in dbRuns[1:5]:\n",
    "    print(f'Runing metrics on Opsim: {run}!')\n",
    "    print('*****************************************')\n",
    "    # one metric bundle dict per opsim\n",
    "    coaddBDict = {}\n",
    "    \n",
    "    # loop through each DDF to get proposalId\n",
    "    for ddf in ddfFields[0:2]:\n",
    "        hp_mask = ddf_hp_mask(ddf, radius, nside)\n",
    "        slicer = slicers.HealpixSubsetSlicer(nside, np.where(hp_mask == 1)[0])\n",
    "        slicer.slicerName = 'HealpixSlicer'  # hack maf\n",
    "        for band in bands[0:2]:\n",
    "            metricName = coaddMetricNameTmp.format(ddf, band)\n",
    "            coaddMetric = metrics.Coaddm5Metric(metricName=metricName)\n",
    "            coaddConstraint = 'filter = \"{}\"'.format(band)\n",
    "#             coaddConstraint += ' and proposalId = {}'.format(propInfo['proposalId'])\n",
    "            coaddBDict[metricName] = metricBundles.MetricBundle(coaddMetric, \\\n",
    "                                    slicer, coaddConstraint, runName=run)\n",
    "            coaddBDict[metricName].setSummaryMetrics(summaryMetrics)\n",
    "\n",
    "    metricGroup = metricBundles.MetricBundleGroup(coaddBDict, opSimDbs[run], \\\n",
    "                                metricDataPath, resultDbs[run], verbose=False)\n",
    "    metricGroup.runAll()"
   ]
  },
  {
   "cell_type": "markdown",
   "metadata": {},
   "source": [
    "#### 3. Declare NVisits metrics and run on above OpSims"
   ]
  },
  {
   "cell_type": "code",
   "execution_count": 13,
   "metadata": {},
   "outputs": [],
   "source": [
    "bands = ['u', 'g', 'r', 'i', 'z', 'y']\n",
    "ddfFields = ['COSMOS', 'XMM-LSS', 'ELAISS1', 'ECDFS', 'EDFS']"
   ]
  },
  {
   "cell_type": "code",
   "execution_count": 14,
   "metadata": {},
   "outputs": [],
   "source": [
    "nvisitMetricNameTmp = 'nvisit_{}_{}'\n",
    "radius = 1.8\n",
    "nside = 64"
   ]
  },
  {
   "cell_type": "code",
   "execution_count": 15,
   "metadata": {},
   "outputs": [],
   "source": [
    "# set summary statistics\n",
    "summaryMetrics = [metrics.MinMetric(), metrics.MedianMetric(),\n",
    "                  metrics.MaxMetric(), metrics.RmsMetric()]\n",
    "# for metric in coaddBDict:\n",
    "#     coaddBDict[metric].setSummaryMetrics(summaryMetrics)"
   ]
  },
  {
   "cell_type": "code",
   "execution_count": 16,
   "metadata": {},
   "outputs": [
    {
     "name": "stdout",
     "output_type": "stream",
     "text": [
      "Runing metrics on Opsim: baseline_v2.0_10yrs!\n",
      "*****************************************\n",
      "Healpix slicer using NSIDE=64, approximate resolution 54.967783 arcminutes\n",
      "Healpix slicer using NSIDE=64, approximate resolution 54.967783 arcminutes\n",
      "Runing metrics on Opsim: baseline_v2.1_10yrs!\n",
      "*****************************************\n",
      "Healpix slicer using NSIDE=64, approximate resolution 54.967783 arcminutes\n",
      "Healpix slicer using NSIDE=64, approximate resolution 54.967783 arcminutes\n",
      "Runing metrics on Opsim: bluer_indx0_v2.0_10yrs!\n",
      "*****************************************\n",
      "Healpix slicer using NSIDE=64, approximate resolution 54.967783 arcminutes\n",
      "Healpix slicer using NSIDE=64, approximate resolution 54.967783 arcminutes\n",
      "Runing metrics on Opsim: bluer_indx1_v2.0_10yrs!\n",
      "*****************************************\n",
      "Healpix slicer using NSIDE=64, approximate resolution 54.967783 arcminutes\n",
      "Healpix slicer using NSIDE=64, approximate resolution 54.967783 arcminutes\n"
     ]
    }
   ],
   "source": [
    "# loop through opsims\n",
    "for run in dbRuns[1:5]:\n",
    "    print(f'Runing metrics on Opsim: {run}!')\n",
    "    print('*****************************************')\n",
    "    # one metric bundle dict per opsim\n",
    "    nvisitBDict = {}\n",
    "    \n",
    "    # loop through each DDF to get proposalId\n",
    "    for ddf in ddfFields[0:2]:\n",
    "        hp_mask = ddf_hp_mask(ddf, radius, nside)\n",
    "        slicer = slicers.HealpixSubsetSlicer(nside, np.where(hp_mask == 1)[0])\n",
    "        slicer.slicerName = 'HealpixSlicer'  # hack maf\n",
    "        for band in bands[0:2]:\n",
    "            metricName = nvisitMetricNameTmp.format(ddf, band)\n",
    "            nvisitMetric = metrics.CountMetric('observationStartMJD', metricName=metricName)\n",
    "            nvisitConstraint = 'filter = \"{}\"'.format(band)\n",
    "#             nvisitConstraint += ' and proposalId = {}'.format(propInfo['proposalId'])\n",
    "            nvisitBDict[metricName] = metricBundles.MetricBundle(nvisitMetric, \\\n",
    "                                    slicer, nvisitConstraint, runName=run)\n",
    "            nvisitBDict[metricName].setSummaryMetrics(summaryMetrics)\n",
    "\n",
    "    metricGroup = metricBundles.MetricBundleGroup(nvisitBDict, opSimDbs[run], \\\n",
    "                                metricDataPath, resultDbs[run], verbose=False)\n",
    "    metricGroup.runAll()"
   ]
  }
 ],
 "metadata": {
  "kernelspec": {
   "display_name": "rubin",
   "language": "python",
   "name": "rubin"
  },
  "language_info": {
   "codemirror_mode": {
    "name": "ipython",
    "version": 3
   },
   "file_extension": ".py",
   "mimetype": "text/x-python",
   "name": "python",
   "nbconvert_exporter": "python",
   "pygments_lexer": "ipython3",
   "version": "3.9.10"
  }
 },
 "nbformat": 4,
 "nbformat_minor": 4
}
