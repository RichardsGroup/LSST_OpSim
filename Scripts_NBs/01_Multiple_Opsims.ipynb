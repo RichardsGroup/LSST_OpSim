{
 "cells": [
  {
   "cell_type": "code",
   "execution_count": 1,
   "metadata": {},
   "outputs": [],
   "source": [
    "# development code\n",
    "%load_ext autoreload\n",
    "%autoreload 2"
   ]
  },
  {
   "cell_type": "markdown",
   "metadata": {},
   "source": [
    "### Run MAF on Multiple FBS_2.0 OpSims Using `rubin_sim`\n",
    "\n",
    "The previous example showed how to run a metric analysis on one or two opSims.  But what you really want to do is to be able to run through *all* of them.  This notebook shows how to do that.  The next notebook will demonstrate how to analyze the results."
   ]
  },
  {
   "cell_type": "markdown",
   "metadata": {},
   "source": [
    "### Software Setup (repeat each session)"
   ]
  },
  {
   "cell_type": "code",
   "execution_count": 2,
   "metadata": {},
   "outputs": [],
   "source": [
    "# import common python packages\n",
    "%matplotlib inline\n",
    "import matplotlib.pyplot as plt\n",
    "import os, sys"
   ]
  },
  {
   "cell_type": "markdown",
   "metadata": {},
   "source": [
    "##### Detect and Set Your SciServer Username\n",
    "__Note:__ Your usename will be used to store MAF output, so please make sure it is correct."
   ]
  },
  {
   "cell_type": "code",
   "execution_count": 3,
   "metadata": {},
   "outputs": [
    {
     "name": "stdout",
     "output_type": "stream",
     "text": [
      "Your automatically extracted username is: ywx649999311. If it is incorrect, please mannually reset it.\n"
     ]
    }
   ],
   "source": [
    "your_username = os.getcwd().split('/')[5]\n",
    "print(f'Your automatically extracted username is: {your_username}.'\n",
    "    ' If it is incorrect, please mannually reset it.')"
   ]
  },
  {
   "cell_type": "markdown",
   "metadata": {},
   "source": [
    "##### Import the $\\texttt{rubin_sim}$ modules needed."
   ]
  },
  {
   "cell_type": "code",
   "execution_count": 4,
   "metadata": {},
   "outputs": [
    {
     "data": {
      "text/plain": [
       "'0.10.1.dev62+gbb0801e'"
      ]
     },
     "execution_count": 4,
     "metadata": {},
     "output_type": "execute_result"
    }
   ],
   "source": [
    "# import rubin_sim python modules\n",
    "import rubin_sim.maf.db as db\n",
    "import rubin_sim.maf.metrics as metrics\n",
    "import rubin_sim.maf.slicers as slicers\n",
    "import rubin_sim.maf.stackers as stackers\n",
    "import rubin_sim.maf.plots as plots\n",
    "import rubin_sim.maf.metricBundles as metricBundles\n",
    "\n",
    "# import convenience functions for MAF analysis on SciServer\n",
    "from opsimUtils import *\n",
    "\n",
    "# print version\n",
    "import rubin_sim\n",
    "rubin_sim.__version__"
   ]
  },
  {
   "cell_type": "markdown",
   "metadata": {},
   "source": [
    "### 1. Build connections to the OpSims databases\n",
    "The first step is to initiate opsim database objects and result database objects for the opsim databases that you want to run metrics on. Two paths are needed here:\n",
    "1. `dbDir`: The path to the shared SciServer directory that host all of the data that you need to run MAF. \n",
    "2. `outDir`: The path to your own directory where you want to save the metric metadata.\n",
    "\n",
    "<!-- **NOTE:** Opsims simulated using different versions of the Feature-based schedulers are stored in seperate folders, you can get the correct path using function `show_fbs_dirs()`. -->"
   ]
  },
  {
   "cell_type": "code",
   "execution_count": 38,
   "metadata": {},
   "outputs": [
    {
     "data": {
      "text/plain": [
       "['baseline_retrofoot_v2.0_10yrs',\n",
       " 'baseline_v2.0_10yrs',\n",
       " 'baseline_v2.1_10yrs',\n",
       " 'bluer_indx0_v2.0_10yrs',\n",
       " 'bluer_indx1_v2.0_10yrs']"
      ]
     },
     "execution_count": 38,
     "metadata": {},
     "output_type": "execute_result"
    }
   ],
   "source": [
    "dbRuns = list(run_df.index)\n",
    "dbRuns[0:5] # only show first 5 opsims"
   ]
  },
  {
   "cell_type": "code",
   "execution_count": 19,
   "metadata": {},
   "outputs": [],
   "source": [
    "dbDir = rubin_sim.data.get_data_dir()\n",
    "outDir = '/home/idies/workspace/Storage/{}/persistent/MAFOutput'.format(your_username)\n",
    "\n",
    "if not os.path.exists(os.path.abspath(outDir)):\n",
    "    os.mkdir(os.path.abspath(outDir))"
   ]
  },
  {
   "cell_type": "code",
   "execution_count": 31,
   "metadata": {},
   "outputs": [],
   "source": [
    "# two dictionary are returned by the following function, \n",
    "# One (opSimDbs) is a dictionary storing all database objects\n",
    "# Another (resultDbs) is a dictionary consist of the objects directing MAF where to save metric metadata\n",
    "# Both dictionaries are indexed by OpSim run names\n",
    "opSimDbs, resultDbs = connect_dbs(dbDir, outDir, dbRuns=dbRuns[0:5])"
   ]
  },
  {
   "cell_type": "markdown",
   "metadata": {},
   "source": [
    "You can use `help` to get more information about the provided convenience functions, e.g., `connect_dbs()`"
   ]
  },
  {
   "cell_type": "code",
   "execution_count": 8,
   "metadata": {},
   "outputs": [
    {
     "name": "stdout",
     "output_type": "stream",
     "text": [
      "Help on function connect_dbs in module opsimUtils:\n",
      "\n",
      "connect_dbs(dbDir, outDir, dbRuns=None)\n",
      "    Initiate database objects to all opSim databases in the provided directory.\n",
      "    Returns a dictionary consisting all database connections and a dictionary\n",
      "    holding the resultsDb objects.\n",
      "    \n",
      "    Args:\n",
      "        dbDir(str): The path to the dabase directory.\n",
      "        outDir(str): The path to the result database directory.\n",
      "        dbRuns(list): A list of OpSim runs to connect to.\n",
      "    \n",
      "    Returns:\n",
      "        opSimDbs(dict): A dictionary containing the OpsimDatabase objects for\n",
      "            opsim databases in the provided directory, keys are the run names.\n",
      "        resultDbs(str): A dictionary containing the ResultsDb objects for opsim\n",
      "            databases in the provided directory, keys are the run names.\n",
      "\n"
     ]
    }
   ],
   "source": [
    "help(connect_dbs)"
   ]
  },
  {
   "cell_type": "markdown",
   "metadata": {},
   "source": [
    "You can also check what OpSims are available in the directory. We suggest saving the returned list to a variable, which will make your life easier if you don't want to run metric evaluations on all avaiable opsims. For more options to select your runs (e.g., by family), please see the [Getting_Data](../rubin_sim_notebooks/maf_tutorial/04_Getting_Data.ipynb) notebook. "
   ]
  },
  {
   "cell_type": "markdown",
   "metadata": {},
   "source": [
    "#### 2. Declare some metrics to run on above OpSims"
   ]
  },
  {
   "cell_type": "code",
   "execution_count": 32,
   "metadata": {},
   "outputs": [
    {
     "name": "stdout",
     "output_type": "stream",
     "text": [
      "Healpix slicer using NSIDE=64, approximate resolution 54.967783 arcminutes\n"
     ]
    }
   ],
   "source": [
    "# Airmass Metric\n",
    "maxMetric = metrics.MaxMetric('airmass')\n",
    "airmassSlicer = slicers.HealpixSlicer(nside=64)\n",
    "airmassConstraint = 'filter = \"g\"'\n",
    "airmassConstraint += ' and note not like \"DD%\"'\n",
    "\n",
    "maxairmassSky = metricBundles.MetricBundle(maxMetric, airmassSlicer, \\\n",
    "                airmassConstraint)"
   ]
  },
  {
   "cell_type": "code",
   "execution_count": 33,
   "metadata": {},
   "outputs": [
    {
     "name": "stdout",
     "output_type": "stream",
     "text": [
      "Healpix slicer using NSIDE=64, approximate resolution 54.967783 arcminutes\n"
     ]
    }
   ],
   "source": [
    "# Coadd Metric in Y band\n",
    "coaddMetric = metrics.Coaddm5Metric()\n",
    "coaddSlicer = slicers.HealpixSlicer(nside=64)\n",
    "coaddConstraint = 'filter = \"y\"'\n",
    "coaddConstraint += ' and note not like \"DD%\"'\n",
    "\n",
    "CoaddY = metricBundles.MetricBundle(coaddMetric, coaddSlicer, \\\n",
    "                coaddConstraint)"
   ]
  },
  {
   "cell_type": "code",
   "execution_count": 34,
   "metadata": {},
   "outputs": [
    {
     "name": "stdout",
     "output_type": "stream",
     "text": [
      "Healpix slicer using NSIDE=64, approximate resolution 54.967783 arcminutes\n"
     ]
    }
   ],
   "source": [
    "# Coadd Metric in U band\n",
    "coaddMetric = metrics.Coaddm5Metric()\n",
    "coaddSlicer = slicers.HealpixSlicer(nside=64)\n",
    "coaddConstraintU = 'filter = \"u\"'\n",
    "coaddConstraintU += ' and note not like \"DD%\"'\n",
    "\n",
    "CoaddU = metricBundles.MetricBundle(coaddMetric, coaddSlicer, \\\n",
    "                coaddConstraintU)"
   ]
  },
  {
   "cell_type": "code",
   "execution_count": 35,
   "metadata": {},
   "outputs": [],
   "source": [
    "# set summary statistics\n",
    "summaryMetrics = [metrics.MinMetric(), metrics.MedianMetric(),\n",
    "                  metrics.MaxMetric(), metrics.RmsMetric()]\n",
    "maxairmassSky.setSummaryMetrics(summaryMetrics)\n",
    "CoaddY.setSummaryMetrics(summaryMetrics)\n",
    "CoaddU.setSummaryMetrics(summaryMetrics)"
   ]
  },
  {
   "cell_type": "code",
   "execution_count": 36,
   "metadata": {},
   "outputs": [],
   "source": [
    "# create a bundleDict for all metrics to run on each opSim\n",
    "bundleDict = {'maxairmassSky': maxairmassSky, 'CoaddY': CoaddY, 'CoaddU': CoaddU}"
   ]
  },
  {
   "cell_type": "markdown",
   "metadata": {},
   "source": [
    "#### 3. Loop over all OpSims in dbDir and run MAF\n",
    "While constructing a metricBundleGroup from a dictionary (the cell below), you will need to provide the path to a directory (`metricDataPath` in the cell below) where you would like to store the metric data (this is **DIFFERENT** than path to the metric data, `outDir`). To construct metricbundles for plotting and further analysis, this path will be needed."
   ]
  },
  {
   "cell_type": "code",
   "execution_count": 37,
   "metadata": {},
   "outputs": [
    {
     "name": "stdout",
     "output_type": "stream",
     "text": [
      "Querying table None with constraint filter = \"u\" and note not like \"DD%\" for columns ['fieldDec', 'rotSkyPos', 'fieldRA', 'fiveSigmaDepth']\n",
      "Found 130488 visits\n",
      "Running:  ['CoaddU']\n",
      "Completed metric generation.\n",
      "Running reduce methods.\n",
      "Running summary statistics.\n",
      "Completed.\n",
      "Querying table None with constraint filter = \"g\" and note not like \"DD%\" for columns ['fieldDec', 'rotSkyPos', 'airmass', 'fieldRA']\n",
      "Found 198940 visits\n",
      "Running:  ['maxairmassSky']\n",
      "Completed metric generation.\n",
      "Running reduce methods.\n",
      "Running summary statistics.\n",
      "Completed.\n",
      "Querying table None with constraint filter = \"y\" and note not like \"DD%\" for columns ['fieldDec', 'rotSkyPos', 'fieldRA', 'fiveSigmaDepth']\n",
      "Found 380658 visits\n",
      "Running:  ['CoaddY']\n",
      "Completed metric generation.\n",
      "Running reduce methods.\n",
      "Running summary statistics.\n",
      "Completed.\n",
      "Querying table None with constraint filter = \"u\" and note not like \"DD%\" for columns ['fieldDec', 'rotSkyPos', 'fieldRA', 'fiveSigmaDepth']\n",
      "Found 128883 visits\n",
      "Running:  ['CoaddU']\n",
      "Completed metric generation.\n",
      "Running reduce methods.\n",
      "Running summary statistics.\n",
      "Completed.\n",
      "Querying table None with constraint filter = \"g\" and note not like \"DD%\" for columns ['fieldDec', 'rotSkyPos', 'airmass', 'fieldRA']\n",
      "Found 206583 visits\n",
      "Running:  ['maxairmassSky']\n",
      "Completed metric generation.\n",
      "Running reduce methods.\n",
      "Running summary statistics.\n",
      "Completed.\n",
      "Querying table None with constraint filter = \"y\" and note not like \"DD%\" for columns ['fieldDec', 'rotSkyPos', 'fieldRA', 'fiveSigmaDepth']\n",
      "Found 369455 visits\n",
      "Running:  ['CoaddY']\n",
      "Completed metric generation.\n",
      "Running reduce methods.\n",
      "Running summary statistics.\n",
      "Completed.\n",
      "Querying table None with constraint filter = \"u\" and note not like \"DD%\" for columns ['fieldDec', 'rotSkyPos', 'fieldRA', 'fiveSigmaDepth']\n",
      "Found 129372 visits\n",
      "Running:  ['CoaddU']\n",
      "Completed metric generation.\n",
      "Running reduce methods.\n",
      "Running summary statistics.\n",
      "Completed.\n",
      "Querying table None with constraint filter = \"g\" and note not like \"DD%\" for columns ['fieldDec', 'rotSkyPos', 'airmass', 'fieldRA']\n",
      "Found 203661 visits\n",
      "Running:  ['maxairmassSky']\n",
      "Completed metric generation.\n",
      "Running reduce methods.\n",
      "Running summary statistics.\n",
      "Completed.\n",
      "Querying table None with constraint filter = \"y\" and note not like \"DD%\" for columns ['fieldDec', 'rotSkyPos', 'fieldRA', 'fiveSigmaDepth']\n",
      "Found 368171 visits\n",
      "Running:  ['CoaddY']\n",
      "Completed metric generation.\n",
      "Running reduce methods.\n",
      "Running summary statistics.\n",
      "Completed.\n",
      "Querying table None with constraint filter = \"u\" and note not like \"DD%\" for columns ['fieldDec', 'rotSkyPos', 'fieldRA', 'fiveSigmaDepth']\n",
      "Found 128059 visits\n",
      "Running:  ['CoaddU']\n",
      "Completed metric generation.\n",
      "Running reduce methods.\n",
      "Running summary statistics.\n",
      "Completed.\n",
      "Querying table None with constraint filter = \"g\" and note not like \"DD%\" for columns ['fieldDec', 'rotSkyPos', 'airmass', 'fieldRA']\n",
      "Found 257499 visits\n",
      "Running:  ['maxairmassSky']\n",
      "Completed metric generation.\n",
      "Running reduce methods.\n",
      "Running summary statistics.\n",
      "Completed.\n",
      "Querying table None with constraint filter = \"y\" and note not like \"DD%\" for columns ['fieldDec', 'rotSkyPos', 'fieldRA', 'fiveSigmaDepth']\n",
      "Found 370408 visits\n",
      "Running:  ['CoaddY']\n",
      "Completed metric generation.\n",
      "Running reduce methods.\n",
      "Running summary statistics.\n",
      "Completed.\n",
      "Querying table None with constraint filter = \"u\" and note not like \"DD%\" for columns ['fieldDec', 'rotSkyPos', 'fieldRA', 'fiveSigmaDepth']\n",
      "Found 144790 visits\n",
      "Running:  ['CoaddU']\n",
      "Completed metric generation.\n",
      "Running reduce methods.\n",
      "Running summary statistics.\n",
      "Completed.\n",
      "Querying table None with constraint filter = \"g\" and note not like \"DD%\" for columns ['fieldDec', 'rotSkyPos', 'airmass', 'fieldRA']\n",
      "Found 240327 visits\n",
      "Running:  ['maxairmassSky']\n",
      "Completed metric generation.\n",
      "Running reduce methods.\n",
      "Running summary statistics.\n",
      "Completed.\n",
      "Querying table None with constraint filter = \"y\" and note not like \"DD%\" for columns ['fieldDec', 'rotSkyPos', 'fieldRA', 'fiveSigmaDepth']\n",
      "Found 372490 visits\n",
      "Running:  ['CoaddY']\n",
      "Completed metric generation.\n",
      "Running reduce methods.\n",
      "Running summary statistics.\n",
      "Completed.\n"
     ]
    }
   ],
   "source": [
    "metricDataPath = '/home/idies/workspace/Storage/{}/persistent/MAFOutput/MetricData/'.format(your_username)\n",
    "\n",
    "# below I am only going to run metrics on the first five opsims\n",
    "for run in dbRuns[0:5]:\n",
    "    # must set run name for each opSim to store metric data into\n",
    "    # separate files\n",
    "    maxairmassSky.setRunName(run)\n",
    "    CoaddY.setRunName(run)\n",
    "    CoaddU.setRunName(run)\n",
    "    metricGroup = metricBundles.MetricBundleGroup(bundleDict,\\\n",
    "                    opSimDbs[run], metricDataPath, resultDbs[run])\n",
    "    metricGroup.runAll()"
   ]
  },
  {
   "cell_type": "markdown",
   "metadata": {},
   "source": [
    "Now you have computed your metric for all the opSims.  To look at those results, go through the  [View_Results.ipynb](./02_View_Results.ipynb) notebook."
   ]
  }
 ],
 "metadata": {
  "anaconda-cloud": {},
  "kernelspec": {
   "display_name": "rubin",
   "language": "python",
   "name": "rubin"
  },
  "language_info": {
   "codemirror_mode": {
    "name": "ipython",
    "version": 3
   },
   "file_extension": ".py",
   "mimetype": "text/x-python",
   "name": "python",
   "nbconvert_exporter": "python",
   "pygments_lexer": "ipython3",
   "version": "3.9.10"
  }
 },
 "nbformat": 4,
 "nbformat_minor": 4
}
