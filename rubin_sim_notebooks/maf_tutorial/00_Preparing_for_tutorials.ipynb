{
 "cells": [
  {
   "cell_type": "markdown",
   "metadata": {},
   "source": [
    "<img align=\"left\" src = https://project.lsst.org/sites/default/files/Rubin-O-Logo_0.png width=250 style=\"padding: 10px\"> \n",
    "<b>Preparing to use the MAF tutorials</b> <br>\n",
    "Contact author: Eric Neilsen<br>\n",
    "Questions welcome at <a href=\"https://community.lsst.org/c/sci/survey-strategy\">community.lsst.org/c/sci/survey-strategy</a> and the <a href=\"https://lsstc.slack.com/archives/C2LTWTP5J\">#sims_operations</a> slack channel.<br>\n",
    "Find additional MAF documentation and resources at <a href=\"https://rubin-sim.lsst.io\">rubin-sim.lsst.io</a>. <br>"
   ]
  },
  {
   "cell_type": "markdown",
   "metadata": {},
   "source": [
    "**Credit:** Previous MAF tutorials, including not only the [tutorial notebooks in sims_MAF-contrib](https://github.com/LSST-nonproject/sims_maf_contrib/tree/master/tutorials) but also those by  Weixiang Yu, Gordon Richards, and Will Clarkson in their [LSST_OpSim](https://github.com/RichardsGroup/LSST_OpSim) repository, inspired the material to be included here. Stylistic elements of these notebooks were guided by the DP0.1 notebooks developed by Melissa Graham and the Rubin Observatory Community Engagement Team."
   ]
  },
  {
   "cell_type": "markdown",
   "metadata": {},
   "source": [
    "## Background\n",
    "\n",
    "These MAF tutorials comprise a collection of jupyter notebooks, interactive documents for interacting with (in this case) a python interpreter through a web browser.\n",
    "They assume some familiarity both with jupyter notebooks and the python programming language. The `jupyter` project has [extensive documentation](https://jupyter.org/documentation), and there are numerous tutorial videos available, including a [very short one](https://www.youtube.com/watch?v=A5YyoCKxEOU) from the `jupyter` project itself, and a [more extensive talk](https://www.youtube.com/watch?v=RFabWieskak) from SciPy 2019."
   ]
  },
  {
   "cell_type": "markdown",
   "metadata": {},
   "source": [
    "## Using MAF at NOIRLab's DataLab"
   ]
  },
  {
   "cell_type": "markdown",
   "metadata": {},
   "source": [
    "Some users, particularly those familiar with running `jupyter` locally and setting up python environments, may wish to install `rubin_sim` in a local python environment and run their own instance of `jupyter`. Instructions for doing such can be found in the README of the `rubin_sim` [github product](https://github.com/lsst/rubin_sim)."
   ]
  },
  {
   "cell_type": "markdown",
   "metadata": {},
   "source": [
    "Another option is to use the installation of MAF at NOIRLab's DataLab.\n",
    "\n",
    "Begin by going to the DataLab's home page: https://datalab.noirlab.edu/\n",
    "\n",
    "There is a [link to create a new account](https://datalab.noirlab.edu/help/register.php?qa=register) in the drop-down menu under \"Quick Start\" in the row of links along the top of the page. \n",
    "\n",
    "Once you have an account, start a notebook using the \"Launch a jupyter notebook\" link in the rows of links along the bottom, which leads here: https://datalab.noirlab.edu/devbooks/\n",
    "\n",
    "Open that link, and log in using your DataLab user name and password. You can now use the interface to start a jupyter instance, and then create a notebook. You can copy the contents of this cell into your notebook and execute it to check out your own copy of the github product with the notebooks:"
   ]
  },
  {
   "cell_type": "code",
   "execution_count": 1,
   "metadata": {},
   "outputs": [
    {
     "name": "stderr",
     "output_type": "stream",
     "text": [
      "Cloning into 'rubin_sim_notebooks'...\n"
     ]
    }
   ],
   "source": [
    "%%bash\n",
    "\n",
    "cd ~/notebooks ;# or wherever you want it.\n",
    "git clone https://github.com/lsst/rubin_sim_notebooks"
   ]
  },
  {
   "cell_type": "markdown",
   "metadata": {},
   "source": [
    "You should now be able to use the folder navigator on the left panel of the jupyter notebook to navigate to the directory with the tutorial notebooks, `notebooks/rubin_sim_notebooks/maf/tutorial`.\n",
    "\n",
    "Begin with `01_Introduction_to_MAF.ipynb`.\n",
    "\n",
    "As the notebook starts, it may ask you to select a kernel. If it does, choose `LSST-2021.10.13 Py3`. \n",
    "\n",
    "Then, you should be ready to go."
   ]
  }
 ],
 "metadata": {
  "kernelspec": {
   "display_name": "Python 3.8 (py38)",
   "language": "python",
   "name": "py38"
  },
  "language_info": {
   "codemirror_mode": {
    "name": "ipython",
    "version": 3
   },
   "file_extension": ".py",
   "mimetype": "text/x-python",
   "name": "python",
   "nbconvert_exporter": "python",
   "pygments_lexer": "ipython3",
   "version": "3.8.5"
  }
 },
 "nbformat": 4,
 "nbformat_minor": 5
}
